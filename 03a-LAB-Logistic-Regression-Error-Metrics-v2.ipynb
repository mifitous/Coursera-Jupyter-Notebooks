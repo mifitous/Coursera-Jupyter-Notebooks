{
 "cells": [
  {
   "cell_type": "markdown",
   "id": "2c60a963-341f-458a-9bcd-58671c2d377b",
   "metadata": {},
   "source": [
    "# Machine Learning Foundation\n",
    "\n",
    "## Course 3, Part a: Logistic Regression LAB\n"
   ]
  },
  {
   "cell_type": "markdown",
   "id": "f21dc06c-4b15-4e84-b4c8-c3567664cd0c",
   "metadata": {},
   "source": [
    "## Introduction\n",
    "\n",
    "We will be using the [Human Activity Recognition with Smartphones](https://archive.ics.uci.edu/ml/datasets/Human+Activity+Recognition+Using+Smartphones) database, which was built from the recordings of study participants who carried a smartphone with an embedded inertial sensor while performing activities of daily living (ADL). The objective is to classify the activities the participants performed into one of the six following categories: walking, walking upstairs, walking downstairs, sitting, standing, and laying.\n",
    "\n",
    "The following information is provided for each record in the dataset: \n",
    "\n",
    "- Triaxial acceleration from the accelerometer (total acceleration) and the estimated body acceleration \n",
    "- Triaxial Angular velocity from the gyroscope \n",
    "- A 561-feature vector with time and frequency domain variables \n",
    "- The activity label \n",
    "\n",
    "More information about the features are available on the website linked above.\n"
   ]
  },
  {
   "cell_type": "code",
   "execution_count": 12,
   "id": "d6c1ad14-9fcc-4453-97cc-bec1c464ee8c",
   "metadata": {},
   "outputs": [
    {
     "name": "stdout",
     "output_type": "stream",
     "text": [
      "zsh:1: /opt/homebrew/bin/pip: bad interpreter: /opt/homebrew/opt/python@3.11/bin/python3.11: no such file or directory\n",
      "zsh:1: /opt/homebrew/bin/pip: bad interpreter: /opt/homebrew/opt/python@3.11/bin/python3.11: no such file or directory\n",
      "zsh:1: /opt/homebrew/bin/pip: bad interpreter: /opt/homebrew/opt/python@3.11/bin/python3.11: no such file or directory\n",
      "zsh:1: /opt/homebrew/bin/pip: bad interpreter: /opt/homebrew/opt/python@3.11/bin/python3.11: no such file or directory\n",
      "zsh:1: /opt/homebrew/bin/pip: bad interpreter: /opt/homebrew/opt/python@3.11/bin/python3.11: no such file or directory\n"
     ]
    }
   ],
   "source": [
    "!pip install seaborn  \n",
    "!pip install pandas\n",
    "!pip install numpy\n",
    "!pip install  matplotlib\n",
    "!pip install scikit-learn"
   ]
  },
  {
   "cell_type": "code",
   "execution_count": 13,
   "id": "7500a519-7e45-42f6-8c0f-33c13cac83eb",
   "metadata": {},
   "outputs": [],
   "source": [
    "def warn(*args, **kwargs):\n",
    "    pass\n",
    "import warnings\n",
    "warnings.warn = warn"
   ]
  },
  {
   "cell_type": "code",
   "execution_count": 14,
   "id": "6a650785-6dd0-44fe-b737-a000f8b97a3e",
   "metadata": {},
   "outputs": [],
   "source": [
    "import seaborn as sns, pandas as pd, numpy as np"
   ]
  },
  {
   "cell_type": "markdown",
   "id": "0d31edc2-cbee-4b1a-9634-75edd142e31e",
   "metadata": {},
   "source": [
    "## Question 1\n",
    "\n",
    "Import the data and do the following:\n",
    "\n",
    "* Examine the data types--there are many columns, so it might be wise to use value counts.\n",
    "* Determine if the floating point values need to be scaled.\n",
    "* Determine the breakdown of each activity.\n",
    "* Encode the activity label as an integer.\n"
   ]
  },
  {
   "cell_type": "code",
   "execution_count": 15,
   "id": "80572ef4-180e-465c-b5a8-9a8d513fe276",
   "metadata": {},
   "outputs": [],
   "source": [
    "### BEGIN SOLUTION\n",
    "data = pd.read_csv(\"https://cf-courses-data.s3.us.cloud-object-storage.appdomain.cloud/IBM-ML241EN-SkillsNetwork/labs/datasets/Human_Activity_Recognition_Using_Smartphones_Data.csv\", sep=',')"
   ]
  },
  {
   "cell_type": "markdown",
   "id": "6143ae98-68e0-447d-bccf-6b8fc469510c",
   "metadata": {},
   "source": [
    "The data columns are all floats except for the activity label.\n"
   ]
  },
  {
   "cell_type": "code",
   "execution_count": 16,
   "id": "3ebd45f3-b9e7-4de4-ab50-33190dc52f19",
   "metadata": {},
   "outputs": [
    {
     "data": {
      "text/plain": [
       "float64    561\n",
       "object       1\n",
       "Name: count, dtype: int64"
      ]
     },
     "execution_count": 16,
     "metadata": {},
     "output_type": "execute_result"
    }
   ],
   "source": [
    "data.dtypes.value_counts()"
   ]
  },
  {
   "cell_type": "code",
   "execution_count": 17,
   "id": "b622d61d-162f-405a-8442-cd8887322393",
   "metadata": {},
   "outputs": [
    {
     "data": {
      "text/plain": [
       "angle(tBodyGyroJerkMean,gravityMean)    float64\n",
       "angle(X,gravityMean)                    float64\n",
       "angle(Y,gravityMean)                    float64\n",
       "angle(Z,gravityMean)                    float64\n",
       "Activity                                 object\n",
       "dtype: object"
      ]
     },
     "execution_count": 17,
     "metadata": {},
     "output_type": "execute_result"
    }
   ],
   "source": [
    "data.dtypes.tail()"
   ]
  },
  {
   "cell_type": "markdown",
   "id": "a2a02e78-d20c-406e-899d-35c153b5f5dc",
   "metadata": {},
   "source": [
    "The data are all scaled from -1 (minimum) to 1.0 (maximum).\n"
   ]
  },
  {
   "cell_type": "code",
   "execution_count": 18,
   "id": "b2c6a05a-6747-4cf9-8bfc-3c8aba94881a",
   "metadata": {},
   "outputs": [
    {
     "data": {
      "text/plain": [
       "-1.0    561\n",
       "Name: count, dtype: int64"
      ]
     },
     "execution_count": 18,
     "metadata": {},
     "output_type": "execute_result"
    }
   ],
   "source": [
    "data.iloc[:, :-1].min().value_counts()"
   ]
  },
  {
   "cell_type": "code",
   "execution_count": 19,
   "id": "ef44fd25-8ea1-4848-9d92-1b3782072ab7",
   "metadata": {},
   "outputs": [
    {
     "data": {
      "text/plain": [
       "1.0    561\n",
       "Name: count, dtype: int64"
      ]
     },
     "execution_count": 19,
     "metadata": {},
     "output_type": "execute_result"
    }
   ],
   "source": [
    "data.iloc[:, :-1].max().value_counts()"
   ]
  },
  {
   "cell_type": "markdown",
   "id": "b3c44b8c-70b4-4f2f-be9f-1c5b9b727b05",
   "metadata": {},
   "source": [
    "Examine the breakdown of activities; they are relatively balanced.\n"
   ]
  },
  {
   "cell_type": "code",
   "execution_count": 20,
   "id": "319e4dfb-3284-4cc2-a202-ed63736dfb01",
   "metadata": {},
   "outputs": [
    {
     "data": {
      "text/plain": [
       "Activity\n",
       "LAYING                1944\n",
       "STANDING              1906\n",
       "SITTING               1777\n",
       "WALKING               1722\n",
       "WALKING_UPSTAIRS      1544\n",
       "WALKING_DOWNSTAIRS    1406\n",
       "Name: count, dtype: int64"
      ]
     },
     "execution_count": 20,
     "metadata": {},
     "output_type": "execute_result"
    }
   ],
   "source": [
    "data.Activity.value_counts()"
   ]
  },
  {
   "cell_type": "markdown",
   "id": "f991b67d-1668-49f4-ad08-e9231df1f5fd",
   "metadata": {},
   "source": [
    "Scikit learn classifiers won't accept a sparse matrix for the prediction column. Thus, either `LabelEncoder` needs to be used to convert the activity labels to integers, or if `DictVectorizer` is used, the resulting matrix must be converted to a non-sparse array.  \n",
    "Use `LabelEncoder` to fit_transform the \"Activity\" column, and look at 5 random values.\n"
   ]
  },
  {
   "cell_type": "code",
   "execution_count": 21,
   "id": "b141d836-9798-4cb0-9b7c-bc298b094dd4",
   "metadata": {},
   "outputs": [
    {
     "data": {
      "text/plain": [
       "7203    1\n",
       "4345    5\n",
       "5672    2\n",
       "287     3\n",
       "1483    2\n",
       "Name: Activity, dtype: int64"
      ]
     },
     "execution_count": 21,
     "metadata": {},
     "output_type": "execute_result"
    }
   ],
   "source": [
    "from sklearn.preprocessing import LabelEncoder\n",
    "\n",
    "le = LabelEncoder()\n",
    "data['Activity'] = le.fit_transform(data.Activity)\n",
    "data['Activity'].sample(5)\n",
    "### END SOLUTION"
   ]
  },
  {
   "cell_type": "markdown",
   "id": "e6ff9222-961e-4570-9a2f-e4970d6ef226",
   "metadata": {},
   "source": [
    "## Question 2\n",
    "\n",
    "* Calculate the correlations between the dependent variables.\n",
    "* Create a histogram of the correlation values.\n",
    "* Identify those that are most correlated (either positively or negatively).\n"
   ]
  },
  {
   "cell_type": "code",
   "execution_count": 22,
   "id": "190d9513-67d6-405f-ad9f-8c075af15dfb",
   "metadata": {},
   "outputs": [],
   "source": [
    "### BEGIN SOLUTION\n",
    "# Calculate the correlation values\n",
    "feature_cols = data.columns[:-1]\n",
    "corr_values = data[feature_cols].corr()\n",
    "\n",
    "# Simplify by emptying all the data below the diagonal\n",
    "tril_index = np.tril_indices_from(corr_values)\n",
    "\n",
    "# Make the unused values NaNs\n",
    "for coord in zip(*tril_index):\n",
    "    corr_values.iloc[coord[0], coord[1]] = np.nan\n",
    "    \n",
    "# Stack the data and convert to a data frame\n",
    "corr_values = (corr_values\n",
    "               .stack()\n",
    "               .to_frame()\n",
    "               .reset_index()\n",
    "               .rename(columns={'level_0':'feature1',\n",
    "                                'level_1':'feature2',\n",
    "                                0:'correlation'}))\n",
    "\n",
    "# Get the absolute values for sorting\n",
    "corr_values['abs_correlation'] = corr_values.correlation.abs()"
   ]
  },
  {
   "cell_type": "markdown",
   "id": "0bae03dc-63d4-4b12-b1e9-e9a3f54ab44e",
   "metadata": {},
   "source": [
    "A histogram of the absolute value correlations.\n"
   ]
  },
  {
   "cell_type": "code",
   "execution_count": 23,
   "id": "bbc5b722-3020-4452-ada2-57e3981996d3",
   "metadata": {},
   "outputs": [],
   "source": [
    "import matplotlib.pyplot as plt\n",
    "import seaborn as sns\n",
    "%matplotlib inline"
   ]
  },
  {
   "cell_type": "code",
   "execution_count": 24,
   "id": "066e45f0-d5b4-420b-abcb-811565ee6c36",
   "metadata": {},
   "outputs": [
    {
     "data": {
      "image/png": "[encoded data removed]",
      "text/plain": [
       "<Figure size 1200x800 with 1 Axes>"
      ]
     },
     "metadata": {},
     "output_type": "display_data"
    }
   ],
   "source": [
    "sns.set_context('talk')\n",
    "sns.set_style('white')\n",
    "\n",
    "ax = corr_values.abs_correlation.hist(bins=50, figsize=(12, 8))\n",
    "ax.set(xlabel='Absolute Correlation', ylabel='Frequency');"
   ]
  },
  {
   "cell_type": "code",
   "execution_count": 25,
   "id": "536f8297-03fa-48b3-a9c0-8d68cfeeccdd",
   "metadata": {},
   "outputs": [
    {
     "data": {
      "application/vnd.microsoft.datawrangler.viewer.v0+json": {
       "columns": [
        {
         "name": "index",
         "rawType": "int64",
         "type": "integer"
        },
        {
         "name": "feature1",
         "rawType": "object",
         "type": "string"
        },
        {
         "name": "feature2",
         "rawType": "object",
         "type": "string"
        },
        {
         "name": "correlation",
         "rawType": "float64",
         "type": "float"
        },
        {
         "name": "abs_correlation",
         "rawType": "float64",
         "type": "float"
        }
       ],
       "conversionMethod": "pd.DataFrame",
       "ref": "d4ebbc96-b899-418f-826f-a3a47e670028",
       "rows": [
        [
         "156894",
         "fBodyBodyGyroJerkMag-mean()",
         "fBodyBodyGyroJerkMag-sma()",
         "1.0",
         "1.0"
        ],
        [
         "93902",
         "tBodyAccMag-sma()",
         "tGravityAccMag-sma()",
         "1.0",
         "1.0"
        ],
        [
         "101139",
         "tBodyAccJerkMag-mean()",
         "tBodyAccJerkMag-sma()",
         "1.0",
         "1.0"
        ],
        [
         "96706",
         "tGravityAccMag-mean()",
         "tGravityAccMag-sma()",
         "1.0",
         "1.0"
        ],
        [
         "94257",
         "tBodyAccMag-energy()",
         "tGravityAccMag-energy()",
         "1.0",
         "1.0"
        ],
        [
         "92472",
         "tBodyAccMag-std()",
         "tGravityAccMag-std()",
         "1.0",
         "1.0"
        ],
        [
         "156049",
         "fBodyBodyAccJerkMag-mean()",
         "fBodyBodyAccJerkMag-sma()",
         "1.0",
         "1.0"
        ],
        [
         "95316",
         "tBodyAccMag-arCoeff()1",
         "tGravityAccMag-arCoeff()1",
         "1.0",
         "1.0"
        ],
        [
         "93189",
         "tBodyAccMag-max()",
         "tGravityAccMag-max()",
         "1.0",
         "1.0"
        ],
        [
         "95667",
         "tBodyAccMag-arCoeff()2",
         "tGravityAccMag-arCoeff()2",
         "1.0",
         "1.0"
        ],
        [
         "155373",
         "fBodyAccMag-mean()",
         "fBodyAccMag-sma()",
         "1.0",
         "1.0"
        ],
        [
         "109498",
         "tBodyGyroJerkMag-mean()",
         "tBodyGyroJerkMag-sma()",
         "1.0",
         "1.0"
        ],
        [
         "156556",
         "fBodyBodyGyroMag-mean()",
         "fBodyBodyGyroMag-sma()",
         "1.0",
         "1.0"
        ],
        [
         "96017",
         "tBodyAccMag-arCoeff()3",
         "tGravityAccMag-arCoeff()3",
         "1.0",
         "1.0"
        ],
        [
         "96366",
         "tBodyAccMag-arCoeff()4",
         "tGravityAccMag-arCoeff()4",
         "1.0",
         "1.0"
        ],
        [
         "93897",
         "tBodyAccMag-sma()",
         "tGravityAccMag-mean()",
         "1.0",
         "1.0"
        ],
        [
         "92104",
         "tBodyAccMag-mean()",
         "tBodyAccMag-sma()",
         "1.0",
         "1.0"
        ],
        [
         "92112",
         "tBodyAccMag-mean()",
         "tGravityAccMag-mean()",
         "1.0",
         "1.0"
        ],
        [
         "92117",
         "tBodyAccMag-mean()",
         "tGravityAccMag-sma()",
         "1.0",
         "1.0"
        ],
        [
         "94964",
         "tBodyAccMag-entropy()",
         "tGravityAccMag-entropy()",
         "1.0",
         "1.0"
        ],
        [
         "94611",
         "tBodyAccMag-iqr()",
         "tGravityAccMag-iqr()",
         "1.0",
         "1.0"
        ],
        [
         "105403",
         "tBodyGyroMag-mean()",
         "tBodyGyroMag-sma()",
         "1.0",
         "1.0"
        ],
        [
         "92831",
         "tBodyAccMag-mad()",
         "tGravityAccMag-mad()",
         "1.0",
         "1.0"
        ],
        [
         "93546",
         "tBodyAccMag-min()",
         "tGravityAccMag-min()",
         "1.0",
         "1.0"
        ],
        [
         "50390",
         "tBodyAccJerk-energy()-Z",
         "fBodyAccJerk-energy()-Z",
         "0.999999747510264",
         "0.999999747510264"
        ],
        [
         "49927",
         "tBodyAccJerk-energy()-Y",
         "fBodyAccJerk-energy()-Y",
         "0.9999996745588685",
         "0.9999996745588685"
        ],
        [
         "49463",
         "tBodyAccJerk-energy()-X",
         "fBodyAccJerk-energy()-X",
         "0.9999994145585477",
         "0.9999994145585477"
        ],
        [
         "118052",
         "fBodyAcc-energy()-X",
         "fBodyAcc-bandsEnergy()-1,24",
         "0.9998637940037268",
         "0.9998637940037268"
        ],
        [
         "149731",
         "fBodyGyro-energy()-X",
         "fBodyGyro-bandsEnergy()-1,24",
         "0.9997725476913936",
         "0.9997725476913936"
        ],
        [
         "118344",
         "fBodyAcc-energy()-Y",
         "fBodyAcc-bandsEnergy()-1,24.1",
         "0.9996347594287622",
         "0.9996347594287622"
        ],
        [
         "9104",
         "tBodyAcc-energy()-X",
         "fBodyAcc-energy()-X",
         "0.9996332057778871",
         "0.9996332057778871"
        ],
        [
         "48865",
         "tBodyAccJerk-sma()",
         "tBodyAccJerkMag-mean()",
         "0.9996154566492466",
         "0.9996154566492466"
        ],
        [
         "48870",
         "tBodyAccJerk-sma()",
         "tBodyAccJerkMag-sma()",
         "0.9996154566492466",
         "0.9996154566492466"
        ],
        [
         "9137",
         "tBodyAcc-energy()-X",
         "fBodyAcc-bandsEnergy()-1,24",
         "0.9995138471307345",
         "0.9995138471307345"
        ],
        [
         "149998",
         "fBodyGyro-energy()-Z",
         "fBodyGyro-bandsEnergy()-1,24.2",
         "0.9994856779898109",
         "0.9994856779898109"
        ],
        [
         "66663",
         "tBodyGyro-sma()",
         "tBodyGyroMag-sma()",
         "0.9992261191174909",
         "0.9992261191174909"
        ],
        [
         "66658",
         "tBodyGyro-sma()",
         "tBodyGyroMag-mean()",
         "0.9992261191174909",
         "0.9992261191174909"
        ],
        [
         "8479",
         "tBodyAcc-sma()",
         "tBodyAccMag-mean()",
         "0.9991290544596482",
         "0.9991290544596482"
        ],
        [
         "8492",
         "tBodyAcc-sma()",
         "tGravityAccMag-mean()",
         "0.9991290544596482",
         "0.9991290544596482"
        ],
        [
         "8497",
         "tBodyAcc-sma()",
         "tGravityAccMag-sma()",
         "0.9991290544596482",
         "0.9991290544596482"
        ],
        [
         "8484",
         "tBodyAcc-sma()",
         "tBodyAccMag-sma()",
         "0.9991290544596482",
         "0.9991290544596482"
        ],
        [
         "21631",
         "tGravityAcc-mean()-X",
         "tGravityAcc-min()-X",
         "0.9990209816565002",
         "0.9990209816565002"
        ],
        [
         "67706",
         "tBodyGyro-energy()-Y",
         "fBodyGyro-energy()-Y",
         "0.9990008461378083",
         "0.9990008461378083"
        ],
        [
         "82856",
         "tBodyGyroJerk-sma()",
         "tBodyGyroJerkMag-sma()",
         "0.9989857056695449",
         "0.9989857056695449"
        ],
        [
         "82851",
         "tBodyGyroJerk-sma()",
         "tBodyGyroJerkMag-mean()",
         "0.9989857056695449",
         "0.9989857056695449"
        ],
        [
         "152805",
         "fBodyGyro-bandsEnergy()-1,16",
         "fBodyGyro-bandsEnergy()-1,24",
         "0.9989660955133254",
         "0.9989660955133254"
        ],
        [
         "118635",
         "fBodyAcc-energy()-Z",
         "fBodyAcc-bandsEnergy()-1,24.2",
         "0.9989202946121706",
         "0.9989202946121706"
        ],
        [
         "125708",
         "fBodyAcc-bandsEnergy()-1,16",
         "fBodyAcc-bandsEnergy()-1,24",
         "0.9989016509651123",
         "0.9989016509651123"
        ],
        [
         "1679",
         "tBodyAcc-std()-X",
         "tBodyAcc-mad()-X",
         "0.998661762734712",
         "0.998661762734712"
        ],
        [
         "23696",
         "tGravityAcc-std()-Y",
         "tGravityAcc-mad()-Y",
         "0.9985609615091897",
         "0.9985609615091897"
        ]
       ],
       "shape": {
        "columns": 4,
        "rows": 22815
       }
      },
      "text/html": [
       "<div>\n",
       "<style scoped>\n",
       "    .dataframe tbody tr th:only-of-type {\n",
       "        vertical-align: middle;\n",
       "    }\n",
       "\n",
       "    .dataframe tbody tr th {\n",
       "        vertical-align: top;\n",
       "    }\n",
       "\n",
       "    .dataframe thead th {\n",
       "        text-align: right;\n",
       "    }\n",
       "</style>\n",
       "<table border=\"1\" class=\"dataframe\">\n",
       "  <thead>\n",
       "    <tr style=\"text-align: right;\">\n",
       "      <th></th>\n",
       "      <th>feature1</th>\n",
       "      <th>feature2</th>\n",
       "      <th>correlation</th>\n",
       "      <th>abs_correlation</th>\n",
       "    </tr>\n",
       "  </thead>\n",
       "  <tbody>\n",
       "    <tr>\n",
       "      <th>156894</th>\n",
       "      <td>fBodyBodyGyroJerkMag-mean()</td>\n",
       "      <td>fBodyBodyGyroJerkMag-sma()</td>\n",
       "      <td>1.000000</td>\n",
       "      <td>1.000000</td>\n",
       "    </tr>\n",
       "    <tr>\n",
       "      <th>93902</th>\n",
       "      <td>tBodyAccMag-sma()</td>\n",
       "      <td>tGravityAccMag-sma()</td>\n",
       "      <td>1.000000</td>\n",
       "      <td>1.000000</td>\n",
       "    </tr>\n",
       "    <tr>\n",
       "      <th>101139</th>\n",
       "      <td>tBodyAccJerkMag-mean()</td>\n",
       "      <td>tBodyAccJerkMag-sma()</td>\n",
       "      <td>1.000000</td>\n",
       "      <td>1.000000</td>\n",
       "    </tr>\n",
       "    <tr>\n",
       "      <th>96706</th>\n",
       "      <td>tGravityAccMag-mean()</td>\n",
       "      <td>tGravityAccMag-sma()</td>\n",
       "      <td>1.000000</td>\n",
       "      <td>1.000000</td>\n",
       "    </tr>\n",
       "    <tr>\n",
       "      <th>94257</th>\n",
       "      <td>tBodyAccMag-energy()</td>\n",
       "      <td>tGravityAccMag-energy()</td>\n",
       "      <td>1.000000</td>\n",
       "      <td>1.000000</td>\n",
       "    </tr>\n",
       "    <tr>\n",
       "      <th>...</th>\n",
       "      <td>...</td>\n",
       "      <td>...</td>\n",
       "      <td>...</td>\n",
       "      <td>...</td>\n",
       "    </tr>\n",
       "    <tr>\n",
       "      <th>22657</th>\n",
       "      <td>tGravityAcc-mean()-Y</td>\n",
       "      <td>angle(Y,gravityMean)</td>\n",
       "      <td>-0.993425</td>\n",
       "      <td>0.993425</td>\n",
       "    </tr>\n",
       "    <tr>\n",
       "      <th>39225</th>\n",
       "      <td>tGravityAcc-arCoeff()-Z,3</td>\n",
       "      <td>tGravityAcc-arCoeff()-Z,4</td>\n",
       "      <td>-0.994267</td>\n",
       "      <td>0.994267</td>\n",
       "    </tr>\n",
       "    <tr>\n",
       "      <th>38739</th>\n",
       "      <td>tGravityAcc-arCoeff()-Z,2</td>\n",
       "      <td>tGravityAcc-arCoeff()-Z,3</td>\n",
       "      <td>-0.994628</td>\n",
       "      <td>0.994628</td>\n",
       "    </tr>\n",
       "    <tr>\n",
       "      <th>23176</th>\n",
       "      <td>tGravityAcc-mean()-Z</td>\n",
       "      <td>angle(Z,gravityMean)</td>\n",
       "      <td>-0.994764</td>\n",
       "      <td>0.994764</td>\n",
       "    </tr>\n",
       "    <tr>\n",
       "      <th>38252</th>\n",
       "      <td>tGravityAcc-arCoeff()-Z,1</td>\n",
       "      <td>tGravityAcc-arCoeff()-Z,2</td>\n",
       "      <td>-0.995195</td>\n",
       "      <td>0.995195</td>\n",
       "    </tr>\n",
       "  </tbody>\n",
       "</table>\n",
       "<p>22815 rows × 4 columns</p>\n",
       "</div>"
      ],
      "text/plain": [
       "                           feature1                    feature2  correlation  \\\n",
       "156894  fBodyBodyGyroJerkMag-mean()  fBodyBodyGyroJerkMag-sma()     1.000000   \n",
       "93902             tBodyAccMag-sma()        tGravityAccMag-sma()     1.000000   \n",
       "101139       tBodyAccJerkMag-mean()       tBodyAccJerkMag-sma()     1.000000   \n",
       "96706         tGravityAccMag-mean()        tGravityAccMag-sma()     1.000000   \n",
       "94257          tBodyAccMag-energy()     tGravityAccMag-energy()     1.000000   \n",
       "...                             ...                         ...          ...   \n",
       "22657          tGravityAcc-mean()-Y        angle(Y,gravityMean)    -0.993425   \n",
       "39225     tGravityAcc-arCoeff()-Z,3   tGravityAcc-arCoeff()-Z,4    -0.994267   \n",
       "38739     tGravityAcc-arCoeff()-Z,2   tGravityAcc-arCoeff()-Z,3    -0.994628   \n",
       "23176          tGravityAcc-mean()-Z        angle(Z,gravityMean)    -0.994764   \n",
       "38252     tGravityAcc-arCoeff()-Z,1   tGravityAcc-arCoeff()-Z,2    -0.995195   \n",
       "\n",
       "        abs_correlation  \n",
       "156894         1.000000  \n",
       "93902          1.000000  \n",
       "101139         1.000000  \n",
       "96706          1.000000  \n",
       "94257          1.000000  \n",
       "...                 ...  \n",
       "22657          0.993425  \n",
       "39225          0.994267  \n",
       "38739          0.994628  \n",
       "23176          0.994764  \n",
       "38252          0.995195  \n",
       "\n",
       "[22815 rows x 4 columns]"
      ]
     },
     "execution_count": 25,
     "metadata": {},
     "output_type": "execute_result"
    }
   ],
   "source": [
    "# The most highly correlated values\n",
    "corr_values.sort_values('correlation', ascending=False).query('abs_correlation>0.8')\n",
    "### END SOLUTION"
   ]
  },
  {
   "cell_type": "markdown",
   "id": "b9081cdc-84a8-453e-9fb5-f96beafa4695",
   "metadata": {},
   "source": [
    "## Question 3\n",
    "\n",
    "* Split the data into train and test data sets. This can be done using any method, but consider using Scikit-learn's `StratifiedShuffleSplit` to maintain the same ratio of predictor classes.\n",
    "* Regardless of the method used to split the data, compare the ratio of classes in both the train and test splits.\n"
   ]
  },
  {
   "cell_type": "code",
   "execution_count": 26,
   "id": "72503e40-f74e-43d0-99f7-da9cc2f3e2c3",
   "metadata": {},
   "outputs": [],
   "source": [
    "### BEGIN SOLUTION\n",
    "from sklearn.model_selection import StratifiedShuffleSplit\n",
    "\n",
    "# Get the split indexes\n",
    "strat_shuf_split = StratifiedShuffleSplit(n_splits=1, \n",
    "                                          test_size=0.3, \n",
    "                                          random_state=42)\n",
    "\n",
    "train_idx, test_idx = next(strat_shuf_split.split(data[feature_cols], data.Activity))\n",
    "\n",
    "# Create the dataframes\n",
    "X_train = data.loc[train_idx, feature_cols]\n",
    "y_train = data.loc[train_idx, 'Activity']\n",
    "\n",
    "X_test  = data.loc[test_idx, feature_cols]\n",
    "y_test  = data.loc[test_idx, 'Activity']"
   ]
  },
  {
   "cell_type": "code",
   "execution_count": 27,
   "id": "e4f51d68-3427-4c99-ae2f-02ce679ff8d6",
   "metadata": {},
   "outputs": [
    {
     "data": {
      "text/plain": [
       "Activity\n",
       "0    0.188792\n",
       "2    0.185046\n",
       "1    0.172562\n",
       "3    0.167152\n",
       "5    0.149951\n",
       "4    0.136496\n",
       "Name: proportion, dtype: float64"
      ]
     },
     "execution_count": 27,
     "metadata": {},
     "output_type": "execute_result"
    }
   ],
   "source": [
    "y_train.value_counts(normalize=True)"
   ]
  },
  {
   "cell_type": "code",
   "execution_count": 28,
   "id": "202de9a0-393c-451e-823e-feb46e9b82f1",
   "metadata": {},
   "outputs": [
    {
     "data": {
      "text/plain": [
       "Activity\n",
       "0    0.188673\n",
       "2    0.185113\n",
       "1    0.172492\n",
       "3    0.167314\n",
       "5    0.149838\n",
       "4    0.136570\n",
       "Name: proportion, dtype: float64"
      ]
     },
     "execution_count": 28,
     "metadata": {},
     "output_type": "execute_result"
    }
   ],
   "source": [
    "y_test.value_counts(normalize=True)\n",
    "### END SOLUTION"
   ]
  },
  {
   "cell_type": "markdown",
   "id": "de52ae3a-7db6-4649-8751-34d547459b07",
   "metadata": {},
   "source": [
    "## Question 4\n",
    "\n",
    "* Fit a logistic regression model without any regularization using all of the features. Be sure to read the documentation about fitting a multi-class model so you understand the coefficient output. Store the model.\n",
    "* Using cross validation to determine the hyperparameters and fit models using L1 and L2 regularization. Store each of these models as well. Note the limitations on multi-class models, solvers, and regularizations. The regularized models, in particular the L1 model, will probably take a while to fit.\n"
   ]
  },
  {
   "cell_type": "code",
   "execution_count": 29,
   "id": "97a66223-4449-4f9c-a1cd-2cb13446ae7c",
   "metadata": {},
   "outputs": [],
   "source": [
    "### BEGIN SOLUTION\n",
    "from sklearn.linear_model import LogisticRegression\n",
    "\n",
    "# Standard logistic regression\n",
    "lr = LogisticRegression(solver='liblinear').fit(X_train, y_train)"
   ]
  },
  {
   "cell_type": "code",
   "execution_count": 30,
   "id": "18c91c4d-c703-469c-8508-febc2617df12",
   "metadata": {},
   "outputs": [],
   "source": [
    "from sklearn.linear_model import LogisticRegressionCV\n",
    "\n",
    "# L1 regularized logistic regression\n",
    "lr_l1 = LogisticRegressionCV(Cs=10, cv=4, penalty='l1', solver='liblinear').fit(X_train, y_train)"
   ]
  },
  {
   "cell_type": "code",
   "execution_count": 31,
   "id": "976605e2-0ec6-4075-a724-d813d155e035",
   "metadata": {},
   "outputs": [],
   "source": [
    "# L2 regularized logistic regression\n",
    "lr_l2 = LogisticRegressionCV(Cs=10, cv=4, penalty='l2', solver='liblinear').fit(X_train, y_train)\n",
    "### END SOLUTION"
   ]
  },
  {
   "cell_type": "markdown",
   "id": "b385b35d-dc8d-4362-9a88-9a46943b0794",
   "metadata": {},
   "source": [
    "## Question 5\n",
    "\n",
    "* Compare the magnitudes of the coefficients for each of the models. If one-vs-rest fitting was used, each set of coefficients can be plotted separately. \n"
   ]
  },
  {
   "cell_type": "code",
   "execution_count": 32,
   "id": "c3ede455-7a3a-46ed-a356-bf47648e4109",
   "metadata": {},
   "outputs": [
    {
     "data": {
      "application/vnd.microsoft.datawrangler.viewer.v0+json": {
       "columns": [
        {
         "name": "index",
         "rawType": "int64",
         "type": "integer"
        },
        {
         "name": "('lr', 0)",
         "rawType": "float64",
         "type": "float"
        },
        {
         "name": "('lr', 1)",
         "rawType": "float64",
         "type": "float"
        },
        {
         "name": "('lr', 2)",
         "rawType": "float64",
         "type": "float"
        },
        {
         "name": "('lr', 3)",
         "rawType": "float64",
         "type": "float"
        },
        {
         "name": "('lr', 4)",
         "rawType": "float64",
         "type": "float"
        },
        {
         "name": "('lr', 5)",
         "rawType": "float64",
         "type": "float"
        },
        {
         "name": "('l1', 0)",
         "rawType": "float64",
         "type": "float"
        },
        {
         "name": "('l1', 1)",
         "rawType": "float64",
         "type": "float"
        },
        {
         "name": "('l1', 2)",
         "rawType": "float64",
         "type": "float"
        },
        {
         "name": "('l1', 3)",
         "rawType": "float64",
         "type": "float"
        },
        {
         "name": "('l1', 4)",
         "rawType": "float64",
         "type": "float"
        },
        {
         "name": "('l1', 5)",
         "rawType": "float64",
         "type": "float"
        },
        {
         "name": "('l2', 0)",
         "rawType": "float64",
         "type": "float"
        },
        {
         "name": "('l2', 1)",
         "rawType": "float64",
         "type": "float"
        },
        {
         "name": "('l2', 2)",
         "rawType": "float64",
         "type": "float"
        },
        {
         "name": "('l2', 3)",
         "rawType": "float64",
         "type": "float"
        },
        {
         "name": "('l2', 4)",
         "rawType": "float64",
         "type": "float"
        },
        {
         "name": "('l2', 5)",
         "rawType": "float64",
         "type": "float"
        }
       ],
       "conversionMethod": "pd.DataFrame",
       "ref": "6672a084-9e6b-4354-8aa8-30288474b6b6",
       "rows": [
        [
         "191",
         "0.08657558564183854",
         "-0.18214664937371303",
         "-0.013347716192450237",
         "-0.1382056497551205",
         "-0.06745902072633413",
         "-0.2041425819222867",
         "0.025288224823036276",
         "0.0",
         "0.0",
         "0.0",
         "-0.5419897391652923",
         "-3.304345282943224",
         "0.17129530188871914",
         "-2.399936012760948",
         "0.26579530584295663",
         "-0.1524914245261207",
         "-0.3579432244579152",
         "-0.7018730224140937"
        ],
        [
         "362",
         "-0.008298868174403493",
         "0.15040363815957877",
         "0.15946235383542878",
         "-0.07788441192683467",
         "0.17247685541323762",
         "-0.038006452788256775",
         "-0.022647036147359644",
         "0.0",
         "0.0",
         "0.0",
         "0.3972677062274979",
         "-0.22133500618406549",
         "-0.033989624155579934",
         "0.3954660014232098",
         "0.19461315281867902",
         "-0.24756573679191257",
         "0.2696456895807866",
         "-0.11335968222118503"
        ],
        [
         "234",
         "-0.025774103942420502",
         "0.7186536576177252",
         "-0.47136538652735516",
         "0.7580045336625466",
         "0.32805446190426657",
         "0.6484246228329571",
         "-0.0818869932309097",
         "0.17848321600307943",
         "0.0",
         "0.708667317178063",
         "0.2625343721482777",
         "1.047736265980454",
         "0.03149836403085512",
         "1.5303994823723728",
         "-0.6931044183341383",
         "1.5562525524344855",
         "0.8849549287643619",
         "2.4001381454304003"
        ],
        [
         "238",
         "-0.046343879197254856",
         "0.42294765025850867",
         "-0.35817549613290445",
         "0.07552481630044161",
         "-0.6786373028249305",
         "-0.014330624456396279",
         "0.0",
         "0.183514576013992",
         "-0.16195021521386968",
         "0.0",
         "-2.0859466892796465",
         "0.2509817612100429",
         "-0.011894700448345816",
         "0.6576015551290415",
         "-0.4510769777665222",
         "0.1372028177766862",
         "-1.4441843244470218",
         "-0.4422861047634513"
        ],
        [
         "177",
         "-0.0040361330323192435",
         "0.19207925862882785",
         "0.1703101094080328",
         "-0.11306375849553882",
         "0.11230746681338033",
         "0.11265332187329836",
         "0.0",
         "0.008720445439105317",
         "0.0",
         "0.0",
         "0.0",
         "0.13067182121777063",
         "-0.028281264615256037",
         "0.5005408100403144",
         "0.1779551682745833",
         "-0.35865777680343036",
         "0.07949738531324543",
         "0.5964803020496825"
        ],
        [
         "398",
         "-0.012116824955774357",
         "0.18495315868477266",
         "0.2009841994485155",
         "0.1562977540638109",
         "-0.17377898020447008",
         "0.11744763593134162",
         "-0.02547315495589709",
         "1.53022944809679e-05",
         "0.0",
         "0.15562328286656057",
         "-0.18868639868572126",
         "0.09508544143055055",
         "-0.04085879129038191",
         "0.6080517952825057",
         "0.2854050655515825",
         "0.301269821699341",
         "-0.44474694624321054",
         "0.4678887886989619"
        ],
        [
         "229",
         "-0.05644149215479923",
         "-0.05257851178096143",
         "-0.1542595447845415",
         "0.15394731187421648",
         "-0.49233817250365974",
         "0.46649445435127174",
         "0.0",
         "0.0",
         "0.0",
         "0.0",
         "-0.45527671891641647",
         "0.20942951582634894",
         "-0.10035240774529182",
         "-0.05312928993820922",
         "-0.24020412067916747",
         "0.5250741826571674",
         "-1.1661666802836332",
         "1.0482532048709408"
        ],
        [
         "388",
         "0.0036507680874028636",
         "0.2575410120336672",
         "0.34587039652293505",
         "0.23368854769880923",
         "0.25688255223241957",
         "0.6547452868821313",
         "-0.08874548978383494",
         "0.5132191059824817",
         "0.8893335380306269",
         "0.1979904398299993",
         "0.05128936027589605",
         "0.45522331210365324",
         "-0.015866067017578388",
         "0.7092484281966663",
         "0.4863260948141915",
         "0.5445339200395412",
         "0.49034904500922594",
         "2.8024102389780947"
        ],
        [
         "20",
         "-0.03204631387534146",
         "-0.09083808892969092",
         "-0.029412155042434426",
         "0.1645426932234238",
         "-0.3109504364257827",
         "-0.1820631130754767",
         "0.0",
         "0.0",
         "0.0",
         "0.0",
         "-0.03560779102441896",
         "-0.7110544180629771",
         "-0.022857322207239003",
         "-0.04631090037909186",
         "-0.018423818085606856",
         "0.5006479158700549",
         "-0.3758136758980579",
         "-0.7699148327826024"
        ],
        [
         "511",
         "0.18914044701892774",
         "-0.004456986259622469",
         "-0.05965568684180481",
         "0.31071948418889034",
         "0.3554550931543645",
         "0.7054432616685206",
         "0.0",
         "0.0",
         "0.0",
         "0.002049511165756425",
         "0.4899879904156397",
         "1.4419189178945935",
         "0.44059329190472185",
         "-0.34006684509048557",
         "0.0593399057403732",
         "0.8811040836356183",
         "0.8701126271580556",
         "2.690803028698604"
        ]
       ],
       "shape": {
        "columns": 18,
        "rows": 10
       }
      },
      "text/html": [
       "<div>\n",
       "<style scoped>\n",
       "    .dataframe tbody tr th:only-of-type {\n",
       "        vertical-align: middle;\n",
       "    }\n",
       "\n",
       "    .dataframe tbody tr th {\n",
       "        vertical-align: top;\n",
       "    }\n",
       "\n",
       "    .dataframe thead tr th {\n",
       "        text-align: left;\n",
       "    }\n",
       "</style>\n",
       "<table border=\"1\" class=\"dataframe\">\n",
       "  <thead>\n",
       "    <tr>\n",
       "      <th></th>\n",
       "      <th colspan=\"6\" halign=\"left\">lr</th>\n",
       "      <th colspan=\"6\" halign=\"left\">l1</th>\n",
       "      <th colspan=\"6\" halign=\"left\">l2</th>\n",
       "    </tr>\n",
       "    <tr>\n",
       "      <th></th>\n",
       "      <th>0</th>\n",
       "      <th>1</th>\n",
       "      <th>2</th>\n",
       "      <th>3</th>\n",
       "      <th>4</th>\n",
       "      <th>5</th>\n",
       "      <th>0</th>\n",
       "      <th>1</th>\n",
       "      <th>2</th>\n",
       "      <th>3</th>\n",
       "      <th>4</th>\n",
       "      <th>5</th>\n",
       "      <th>0</th>\n",
       "      <th>1</th>\n",
       "      <th>2</th>\n",
       "      <th>3</th>\n",
       "      <th>4</th>\n",
       "      <th>5</th>\n",
       "    </tr>\n",
       "  </thead>\n",
       "  <tbody>\n",
       "    <tr>\n",
       "      <th>191</th>\n",
       "      <td>0.086576</td>\n",
       "      <td>-0.182147</td>\n",
       "      <td>-0.013348</td>\n",
       "      <td>-0.138206</td>\n",
       "      <td>-0.067459</td>\n",
       "      <td>-0.204143</td>\n",
       "      <td>0.025288</td>\n",
       "      <td>0.000000</td>\n",
       "      <td>0.000000</td>\n",
       "      <td>0.000000</td>\n",
       "      <td>-0.541990</td>\n",
       "      <td>-3.304345</td>\n",
       "      <td>0.171295</td>\n",
       "      <td>-2.399936</td>\n",
       "      <td>0.265795</td>\n",
       "      <td>-0.152491</td>\n",
       "      <td>-0.357943</td>\n",
       "      <td>-0.701873</td>\n",
       "    </tr>\n",
       "    <tr>\n",
       "      <th>362</th>\n",
       "      <td>-0.008299</td>\n",
       "      <td>0.150404</td>\n",
       "      <td>0.159462</td>\n",
       "      <td>-0.077884</td>\n",
       "      <td>0.172477</td>\n",
       "      <td>-0.038006</td>\n",
       "      <td>-0.022647</td>\n",
       "      <td>0.000000</td>\n",
       "      <td>0.000000</td>\n",
       "      <td>0.000000</td>\n",
       "      <td>0.397268</td>\n",
       "      <td>-0.221335</td>\n",
       "      <td>-0.033990</td>\n",
       "      <td>0.395466</td>\n",
       "      <td>0.194613</td>\n",
       "      <td>-0.247566</td>\n",
       "      <td>0.269646</td>\n",
       "      <td>-0.113360</td>\n",
       "    </tr>\n",
       "    <tr>\n",
       "      <th>234</th>\n",
       "      <td>-0.025774</td>\n",
       "      <td>0.718654</td>\n",
       "      <td>-0.471365</td>\n",
       "      <td>0.758005</td>\n",
       "      <td>0.328054</td>\n",
       "      <td>0.648425</td>\n",
       "      <td>-0.081887</td>\n",
       "      <td>0.178483</td>\n",
       "      <td>0.000000</td>\n",
       "      <td>0.708667</td>\n",
       "      <td>0.262534</td>\n",
       "      <td>1.047736</td>\n",
       "      <td>0.031498</td>\n",
       "      <td>1.530399</td>\n",
       "      <td>-0.693104</td>\n",
       "      <td>1.556253</td>\n",
       "      <td>0.884955</td>\n",
       "      <td>2.400138</td>\n",
       "    </tr>\n",
       "    <tr>\n",
       "      <th>238</th>\n",
       "      <td>-0.046344</td>\n",
       "      <td>0.422948</td>\n",
       "      <td>-0.358175</td>\n",
       "      <td>0.075525</td>\n",
       "      <td>-0.678637</td>\n",
       "      <td>-0.014331</td>\n",
       "      <td>0.000000</td>\n",
       "      <td>0.183515</td>\n",
       "      <td>-0.161950</td>\n",
       "      <td>0.000000</td>\n",
       "      <td>-2.085947</td>\n",
       "      <td>0.250982</td>\n",
       "      <td>-0.011895</td>\n",
       "      <td>0.657602</td>\n",
       "      <td>-0.451077</td>\n",
       "      <td>0.137203</td>\n",
       "      <td>-1.444184</td>\n",
       "      <td>-0.442286</td>\n",
       "    </tr>\n",
       "    <tr>\n",
       "      <th>177</th>\n",
       "      <td>-0.004036</td>\n",
       "      <td>0.192079</td>\n",
       "      <td>0.170310</td>\n",
       "      <td>-0.113064</td>\n",
       "      <td>0.112307</td>\n",
       "      <td>0.112653</td>\n",
       "      <td>0.000000</td>\n",
       "      <td>0.008720</td>\n",
       "      <td>0.000000</td>\n",
       "      <td>0.000000</td>\n",
       "      <td>0.000000</td>\n",
       "      <td>0.130672</td>\n",
       "      <td>-0.028281</td>\n",
       "      <td>0.500541</td>\n",
       "      <td>0.177955</td>\n",
       "      <td>-0.358658</td>\n",
       "      <td>0.079497</td>\n",
       "      <td>0.596480</td>\n",
       "    </tr>\n",
       "    <tr>\n",
       "      <th>398</th>\n",
       "      <td>-0.012117</td>\n",
       "      <td>0.184953</td>\n",
       "      <td>0.200984</td>\n",
       "      <td>0.156298</td>\n",
       "      <td>-0.173779</td>\n",
       "      <td>0.117448</td>\n",
       "      <td>-0.025473</td>\n",
       "      <td>0.000015</td>\n",
       "      <td>0.000000</td>\n",
       "      <td>0.155623</td>\n",
       "      <td>-0.188686</td>\n",
       "      <td>0.095085</td>\n",
       "      <td>-0.040859</td>\n",
       "      <td>0.608052</td>\n",
       "      <td>0.285405</td>\n",
       "      <td>0.301270</td>\n",
       "      <td>-0.444747</td>\n",
       "      <td>0.467889</td>\n",
       "    </tr>\n",
       "    <tr>\n",
       "      <th>229</th>\n",
       "      <td>-0.056441</td>\n",
       "      <td>-0.052579</td>\n",
       "      <td>-0.154260</td>\n",
       "      <td>0.153947</td>\n",
       "      <td>-0.492338</td>\n",
       "      <td>0.466494</td>\n",
       "      <td>0.000000</td>\n",
       "      <td>0.000000</td>\n",
       "      <td>0.000000</td>\n",
       "      <td>0.000000</td>\n",
       "      <td>-0.455277</td>\n",
       "      <td>0.209430</td>\n",
       "      <td>-0.100352</td>\n",
       "      <td>-0.053129</td>\n",
       "      <td>-0.240204</td>\n",
       "      <td>0.525074</td>\n",
       "      <td>-1.166167</td>\n",
       "      <td>1.048253</td>\n",
       "    </tr>\n",
       "    <tr>\n",
       "      <th>388</th>\n",
       "      <td>0.003651</td>\n",
       "      <td>0.257541</td>\n",
       "      <td>0.345870</td>\n",
       "      <td>0.233689</td>\n",
       "      <td>0.256883</td>\n",
       "      <td>0.654745</td>\n",
       "      <td>-0.088745</td>\n",
       "      <td>0.513219</td>\n",
       "      <td>0.889334</td>\n",
       "      <td>0.197990</td>\n",
       "      <td>0.051289</td>\n",
       "      <td>0.455223</td>\n",
       "      <td>-0.015866</td>\n",
       "      <td>0.709248</td>\n",
       "      <td>0.486326</td>\n",
       "      <td>0.544534</td>\n",
       "      <td>0.490349</td>\n",
       "      <td>2.802410</td>\n",
       "    </tr>\n",
       "    <tr>\n",
       "      <th>20</th>\n",
       "      <td>-0.032046</td>\n",
       "      <td>-0.090838</td>\n",
       "      <td>-0.029412</td>\n",
       "      <td>0.164543</td>\n",
       "      <td>-0.310950</td>\n",
       "      <td>-0.182063</td>\n",
       "      <td>0.000000</td>\n",
       "      <td>0.000000</td>\n",
       "      <td>0.000000</td>\n",
       "      <td>0.000000</td>\n",
       "      <td>-0.035608</td>\n",
       "      <td>-0.711054</td>\n",
       "      <td>-0.022857</td>\n",
       "      <td>-0.046311</td>\n",
       "      <td>-0.018424</td>\n",
       "      <td>0.500648</td>\n",
       "      <td>-0.375814</td>\n",
       "      <td>-0.769915</td>\n",
       "    </tr>\n",
       "    <tr>\n",
       "      <th>511</th>\n",
       "      <td>0.189140</td>\n",
       "      <td>-0.004457</td>\n",
       "      <td>-0.059656</td>\n",
       "      <td>0.310719</td>\n",
       "      <td>0.355455</td>\n",
       "      <td>0.705443</td>\n",
       "      <td>0.000000</td>\n",
       "      <td>0.000000</td>\n",
       "      <td>0.000000</td>\n",
       "      <td>0.002050</td>\n",
       "      <td>0.489988</td>\n",
       "      <td>1.441919</td>\n",
       "      <td>0.440593</td>\n",
       "      <td>-0.340067</td>\n",
       "      <td>0.059340</td>\n",
       "      <td>0.881104</td>\n",
       "      <td>0.870113</td>\n",
       "      <td>2.690803</td>\n",
       "    </tr>\n",
       "  </tbody>\n",
       "</table>\n",
       "</div>"
      ],
      "text/plain": [
       "           lr                                                          l1  \\\n",
       "            0         1         2         3         4         5         0   \n",
       "191  0.086576 -0.182147 -0.013348 -0.138206 -0.067459 -0.204143  0.025288   \n",
       "362 -0.008299  0.150404  0.159462 -0.077884  0.172477 -0.038006 -0.022647   \n",
       "234 -0.025774  0.718654 -0.471365  0.758005  0.328054  0.648425 -0.081887   \n",
       "238 -0.046344  0.422948 -0.358175  0.075525 -0.678637 -0.014331  0.000000   \n",
       "177 -0.004036  0.192079  0.170310 -0.113064  0.112307  0.112653  0.000000   \n",
       "398 -0.012117  0.184953  0.200984  0.156298 -0.173779  0.117448 -0.025473   \n",
       "229 -0.056441 -0.052579 -0.154260  0.153947 -0.492338  0.466494  0.000000   \n",
       "388  0.003651  0.257541  0.345870  0.233689  0.256883  0.654745 -0.088745   \n",
       "20  -0.032046 -0.090838 -0.029412  0.164543 -0.310950 -0.182063  0.000000   \n",
       "511  0.189140 -0.004457 -0.059656  0.310719  0.355455  0.705443  0.000000   \n",
       "\n",
       "                                                             l2            \\\n",
       "            1         2         3         4         5         0         1   \n",
       "191  0.000000  0.000000  0.000000 -0.541990 -3.304345  0.171295 -2.399936   \n",
       "362  0.000000  0.000000  0.000000  0.397268 -0.221335 -0.033990  0.395466   \n",
       "234  0.178483  0.000000  0.708667  0.262534  1.047736  0.031498  1.530399   \n",
       "238  0.183515 -0.161950  0.000000 -2.085947  0.250982 -0.011895  0.657602   \n",
       "177  0.008720  0.000000  0.000000  0.000000  0.130672 -0.028281  0.500541   \n",
       "398  0.000015  0.000000  0.155623 -0.188686  0.095085 -0.040859  0.608052   \n",
       "229  0.000000  0.000000  0.000000 -0.455277  0.209430 -0.100352 -0.053129   \n",
       "388  0.513219  0.889334  0.197990  0.051289  0.455223 -0.015866  0.709248   \n",
       "20   0.000000  0.000000  0.000000 -0.035608 -0.711054 -0.022857 -0.046311   \n",
       "511  0.000000  0.000000  0.002050  0.489988  1.441919  0.440593 -0.340067   \n",
       "\n",
       "                                             \n",
       "            2         3         4         5  \n",
       "191  0.265795 -0.152491 -0.357943 -0.701873  \n",
       "362  0.194613 -0.247566  0.269646 -0.113360  \n",
       "234 -0.693104  1.556253  0.884955  2.400138  \n",
       "238 -0.451077  0.137203 -1.444184 -0.442286  \n",
       "177  0.177955 -0.358658  0.079497  0.596480  \n",
       "398  0.285405  0.301270 -0.444747  0.467889  \n",
       "229 -0.240204  0.525074 -1.166167  1.048253  \n",
       "388  0.486326  0.544534  0.490349  2.802410  \n",
       "20  -0.018424  0.500648 -0.375814 -0.769915  \n",
       "511  0.059340  0.881104  0.870113  2.690803  "
      ]
     },
     "execution_count": 32,
     "metadata": {},
     "output_type": "execute_result"
    }
   ],
   "source": [
    "### BEGIN SOLUTION\n",
    "# Combine all the coefficients into a dataframe\n",
    "coefficients = list()\n",
    "\n",
    "coeff_labels = ['lr', 'l1', 'l2']\n",
    "coeff_models = [lr, lr_l1, lr_l2]\n",
    "\n",
    "for lab,mod in zip(coeff_labels, coeff_models):\n",
    "    coeffs = mod.coef_\n",
    "    coeff_label = pd.MultiIndex(levels=[[lab], [0,1,2,3,4,5]], \n",
    "                                 codes=[[0,0,0,0,0,0], [0,1,2,3,4,5]])\n",
    "    coefficients.append(pd.DataFrame(coeffs.T, columns=coeff_label))\n",
    "\n",
    "coefficients = pd.concat(coefficients, axis=1)\n",
    "\n",
    "coefficients.sample(10)"
   ]
  },
  {
   "cell_type": "markdown",
   "id": "7c53560e-56ce-49ad-a33e-d29a5a86156f",
   "metadata": {},
   "source": [
    "Prepare six separate plots for each of the multi-class coefficients.\n"
   ]
  },
  {
   "cell_type": "code",
   "execution_count": 33,
   "id": "a77b63a2-d6ac-44b3-8916-f17ea681cb9b",
   "metadata": {},
   "outputs": [
    {
     "data": {
      "image/png": "[encoded data removed]",
      "text/plain": [
       "<Figure size 1000x1000 with 6 Axes>"
      ]
     },
     "metadata": {},
     "output_type": "display_data"
    }
   ],
   "source": [
    "fig, axList = plt.subplots(nrows=3, ncols=2)\n",
    "axList = axList.flatten()\n",
    "fig.set_size_inches(10,10)\n",
    "\n",
    "for ax in enumerate(axList):\n",
    "    loc = ax[0]\n",
    "    ax = ax[1]\n",
    "    \n",
    "    data = coefficients.xs(loc, level=1, axis=1)\n",
    "    data.plot(marker='o', ls='', ms=2.0, ax=ax, legend=False)\n",
    "    \n",
    "    if ax is axList[0]:\n",
    "        ax.legend(loc=4)\n",
    "        \n",
    "    ax.set(title='Coefficient Set '+str(loc))\n",
    "\n",
    "plt.tight_layout()\n",
    "### END SOLUTION"
   ]
  },
  {
   "cell_type": "markdown",
   "id": "02ae8563-26f1-4a7e-a245-9b66b6867437",
   "metadata": {},
   "source": [
    "## Question 6\n",
    "\n",
    "* Predict and store the class for each model.\n",
    "* Store the probability for the predicted class for each model. \n"
   ]
  },
  {
   "cell_type": "code",
   "execution_count": 34,
   "id": "6432df2d-3dcc-44c2-ad5e-1e4cab14dcf8",
   "metadata": {},
   "outputs": [
    {
     "data": {
      "application/vnd.microsoft.datawrangler.viewer.v0+json": {
       "columns": [
        {
         "name": "index",
         "rawType": "int64",
         "type": "integer"
        },
        {
         "name": "lr",
         "rawType": "int64",
         "type": "integer"
        },
        {
         "name": "l1",
         "rawType": "int64",
         "type": "integer"
        },
        {
         "name": "l2",
         "rawType": "int64",
         "type": "integer"
        }
       ],
       "conversionMethod": "pd.DataFrame",
       "ref": "cefc4e2a-1252-4a3e-9e3a-1262d34adfa4",
       "rows": [
        [
         "0",
         "3",
         "3",
         "3"
        ],
        [
         "1",
         "5",
         "5",
         "5"
        ],
        [
         "2",
         "3",
         "3",
         "3"
        ],
        [
         "3",
         "1",
         "1",
         "1"
        ],
        [
         "4",
         "0",
         "0",
         "0"
        ]
       ],
       "shape": {
        "columns": 3,
        "rows": 5
       }
      },
      "text/html": [
       "<div>\n",
       "<style scoped>\n",
       "    .dataframe tbody tr th:only-of-type {\n",
       "        vertical-align: middle;\n",
       "    }\n",
       "\n",
       "    .dataframe tbody tr th {\n",
       "        vertical-align: top;\n",
       "    }\n",
       "\n",
       "    .dataframe thead th {\n",
       "        text-align: right;\n",
       "    }\n",
       "</style>\n",
       "<table border=\"1\" class=\"dataframe\">\n",
       "  <thead>\n",
       "    <tr style=\"text-align: right;\">\n",
       "      <th></th>\n",
       "      <th>lr</th>\n",
       "      <th>l1</th>\n",
       "      <th>l2</th>\n",
       "    </tr>\n",
       "  </thead>\n",
       "  <tbody>\n",
       "    <tr>\n",
       "      <th>0</th>\n",
       "      <td>3</td>\n",
       "      <td>3</td>\n",
       "      <td>3</td>\n",
       "    </tr>\n",
       "    <tr>\n",
       "      <th>1</th>\n",
       "      <td>5</td>\n",
       "      <td>5</td>\n",
       "      <td>5</td>\n",
       "    </tr>\n",
       "    <tr>\n",
       "      <th>2</th>\n",
       "      <td>3</td>\n",
       "      <td>3</td>\n",
       "      <td>3</td>\n",
       "    </tr>\n",
       "    <tr>\n",
       "      <th>3</th>\n",
       "      <td>1</td>\n",
       "      <td>1</td>\n",
       "      <td>1</td>\n",
       "    </tr>\n",
       "    <tr>\n",
       "      <th>4</th>\n",
       "      <td>0</td>\n",
       "      <td>0</td>\n",
       "      <td>0</td>\n",
       "    </tr>\n",
       "  </tbody>\n",
       "</table>\n",
       "</div>"
      ],
      "text/plain": [
       "   lr  l1  l2\n",
       "0   3   3   3\n",
       "1   5   5   5\n",
       "2   3   3   3\n",
       "3   1   1   1\n",
       "4   0   0   0"
      ]
     },
     "execution_count": 34,
     "metadata": {},
     "output_type": "execute_result"
    }
   ],
   "source": [
    "### BEGIN SOLUTION\n",
    "# Predict the class and the probability for each\n",
    "y_pred = list()\n",
    "y_prob = list()\n",
    "\n",
    "coeff_labels = ['lr', 'l1', 'l2']\n",
    "coeff_models = [lr, lr_l1, lr_l2]\n",
    "\n",
    "for lab,mod in zip(coeff_labels, coeff_models):\n",
    "    y_pred.append(pd.Series(mod.predict(X_test), name=lab))\n",
    "    y_prob.append(pd.Series(mod.predict_proba(X_test).max(axis=1), name=lab))\n",
    "    \n",
    "y_pred = pd.concat(y_pred, axis=1)\n",
    "y_prob = pd.concat(y_prob, axis=1)\n",
    "\n",
    "y_pred.head()"
   ]
  },
  {
   "cell_type": "code",
   "execution_count": 35,
   "id": "e8f6a455-017f-473e-be73-62b9bc6c6920",
   "metadata": {},
   "outputs": [
    {
     "data": {
      "application/vnd.microsoft.datawrangler.viewer.v0+json": {
       "columns": [
        {
         "name": "index",
         "rawType": "int64",
         "type": "integer"
        },
        {
         "name": "lr",
         "rawType": "float64",
         "type": "float"
        },
        {
         "name": "l1",
         "rawType": "float64",
         "type": "float"
        },
        {
         "name": "l2",
         "rawType": "float64",
         "type": "float"
        }
       ],
       "conversionMethod": "pd.DataFrame",
       "ref": "f7e90a49-dab2-4566-a091-fd0bd5db6b1f",
       "rows": [
        [
         "0",
         "0.998938793085519",
         "0.998842730850002",
         "0.9997580141894372"
        ],
        [
         "1",
         "0.9881653187238856",
         "0.9995302202131233",
         "0.9994772218248128"
        ],
        [
         "2",
         "0.9875916069835143",
         "0.9953875515451669",
         "0.9996967418652729"
        ],
        [
         "3",
         "0.9813812287259445",
         "0.9991741559220667",
         "0.9943375706457616"
        ],
        [
         "4",
         "0.9982769154903702",
         "0.9999223798511222",
         "0.9999973792253753"
        ]
       ],
       "shape": {
        "columns": 3,
        "rows": 5
       }
      },
      "text/html": [
       "<div>\n",
       "<style scoped>\n",
       "    .dataframe tbody tr th:only-of-type {\n",
       "        vertical-align: middle;\n",
       "    }\n",
       "\n",
       "    .dataframe tbody tr th {\n",
       "        vertical-align: top;\n",
       "    }\n",
       "\n",
       "    .dataframe thead th {\n",
       "        text-align: right;\n",
       "    }\n",
       "</style>\n",
       "<table border=\"1\" class=\"dataframe\">\n",
       "  <thead>\n",
       "    <tr style=\"text-align: right;\">\n",
       "      <th></th>\n",
       "      <th>lr</th>\n",
       "      <th>l1</th>\n",
       "      <th>l2</th>\n",
       "    </tr>\n",
       "  </thead>\n",
       "  <tbody>\n",
       "    <tr>\n",
       "      <th>0</th>\n",
       "      <td>0.998939</td>\n",
       "      <td>0.998843</td>\n",
       "      <td>0.999758</td>\n",
       "    </tr>\n",
       "    <tr>\n",
       "      <th>1</th>\n",
       "      <td>0.988165</td>\n",
       "      <td>0.999530</td>\n",
       "      <td>0.999477</td>\n",
       "    </tr>\n",
       "    <tr>\n",
       "      <th>2</th>\n",
       "      <td>0.987592</td>\n",
       "      <td>0.995388</td>\n",
       "      <td>0.999697</td>\n",
       "    </tr>\n",
       "    <tr>\n",
       "      <th>3</th>\n",
       "      <td>0.981381</td>\n",
       "      <td>0.999174</td>\n",
       "      <td>0.994338</td>\n",
       "    </tr>\n",
       "    <tr>\n",
       "      <th>4</th>\n",
       "      <td>0.998277</td>\n",
       "      <td>0.999922</td>\n",
       "      <td>0.999997</td>\n",
       "    </tr>\n",
       "  </tbody>\n",
       "</table>\n",
       "</div>"
      ],
      "text/plain": [
       "         lr        l1        l2\n",
       "0  0.998939  0.998843  0.999758\n",
       "1  0.988165  0.999530  0.999477\n",
       "2  0.987592  0.995388  0.999697\n",
       "3  0.981381  0.999174  0.994338\n",
       "4  0.998277  0.999922  0.999997"
      ]
     },
     "execution_count": 35,
     "metadata": {},
     "output_type": "execute_result"
    }
   ],
   "source": [
    "y_prob.head()\n",
    "### END SOLUTION"
   ]
  },
  {
   "cell_type": "markdown",
   "id": "fdadfaa4-fc3f-41b1-bad4-0ce3acccbc11",
   "metadata": {},
   "source": [
    "## Question 7\n",
    "\n",
    "For each model, calculate the following error metrics: \n",
    "\n",
    "* Accuracy\n",
    "* Precision\n",
    "* Recall\n",
    "* F-score\n",
    "* Confusion Matrix\n",
    "\n",
    "Decide how to combine the multi-class metrics into a single value for each model.\n"
   ]
  },
  {
   "cell_type": "code",
   "execution_count": 36,
   "id": "e3d191c7-5de2-4778-af1a-5a30c0f8036a",
   "metadata": {},
   "outputs": [],
   "source": [
    "### BEGIN SOLUTION\n",
    "from sklearn.metrics import precision_recall_fscore_support as score\n",
    "from sklearn.metrics import confusion_matrix, accuracy_score, roc_auc_score\n",
    "from sklearn.preprocessing import label_binarize\n",
    "\n",
    "metrics = list()\n",
    "cm = dict()\n",
    "\n",
    "for lab in coeff_labels:\n",
    "\n",
    "    # Preciision, recall, f-score from the multi-class support function\n",
    "    precision, recall, fscore, _ = score(y_test, y_pred[lab], average='weighted')\n",
    "    \n",
    "    # The usual way to calculate accuracy\n",
    "    accuracy = accuracy_score(y_test, y_pred[lab])\n",
    "    \n",
    "    # ROC-AUC scores can be calculated by binarizing the data\n",
    "    auc = roc_auc_score(label_binarize(y_test, classes=[0,1,2,3,4,5]),\n",
    "              label_binarize(y_pred[lab], classes=[0,1,2,3,4,5]), \n",
    "              average='weighted')\n",
    "    \n",
    "    # Last, the confusion matrix\n",
    "    cm[lab] = confusion_matrix(y_test, y_pred[lab])\n",
    "    \n",
    "    metrics.append(pd.Series({'precision':precision, 'recall':recall, \n",
    "                              'fscore':fscore, 'accuracy':accuracy,\n",
    "                              'auc':auc}, \n",
    "                             name=lab))\n",
    "\n",
    "metrics = pd.concat(metrics, axis=1)"
   ]
  },
  {
   "cell_type": "code",
   "execution_count": 37,
   "id": "ba2aea97-72e6-4293-981c-5d833a884c54",
   "metadata": {},
   "outputs": [
    {
     "data": {
      "application/vnd.microsoft.datawrangler.viewer.v0+json": {
       "columns": [
        {
         "name": "index",
         "rawType": "object",
         "type": "string"
        },
        {
         "name": "lr",
         "rawType": "float64",
         "type": "float"
        },
        {
         "name": "l1",
         "rawType": "float64",
         "type": "float"
        },
        {
         "name": "l2",
         "rawType": "float64",
         "type": "float"
        }
       ],
       "conversionMethod": "pd.DataFrame",
       "ref": "54cf6356-9968-4cde-b8a8-f10dde246471",
       "rows": [
        [
         "precision",
         "0.9841438255400277",
         "0.9838329279446079",
         "0.9838243714214587"
        ],
        [
         "recall",
         "0.9841423948220065",
         "0.9838187702265372",
         "0.9838187702265372"
        ],
        [
         "fscore",
         "0.9841428284156661",
         "0.9838165372412249",
         "0.98381859677489"
        ],
        [
         "accuracy",
         "0.9841423948220065",
         "0.9838187702265372",
         "0.9838187702265372"
        ],
        [
         "auc",
         "0.9903839811943528",
         "0.9901478206316444",
         "0.9901650419157019"
        ]
       ],
       "shape": {
        "columns": 3,
        "rows": 5
       }
      },
      "text/html": [
       "<div>\n",
       "<style scoped>\n",
       "    .dataframe tbody tr th:only-of-type {\n",
       "        vertical-align: middle;\n",
       "    }\n",
       "\n",
       "    .dataframe tbody tr th {\n",
       "        vertical-align: top;\n",
       "    }\n",
       "\n",
       "    .dataframe thead th {\n",
       "        text-align: right;\n",
       "    }\n",
       "</style>\n",
       "<table border=\"1\" class=\"dataframe\">\n",
       "  <thead>\n",
       "    <tr style=\"text-align: right;\">\n",
       "      <th></th>\n",
       "      <th>lr</th>\n",
       "      <th>l1</th>\n",
       "      <th>l2</th>\n",
       "    </tr>\n",
       "  </thead>\n",
       "  <tbody>\n",
       "    <tr>\n",
       "      <th>precision</th>\n",
       "      <td>0.984144</td>\n",
       "      <td>0.983833</td>\n",
       "      <td>0.983824</td>\n",
       "    </tr>\n",
       "    <tr>\n",
       "      <th>recall</th>\n",
       "      <td>0.984142</td>\n",
       "      <td>0.983819</td>\n",
       "      <td>0.983819</td>\n",
       "    </tr>\n",
       "    <tr>\n",
       "      <th>fscore</th>\n",
       "      <td>0.984143</td>\n",
       "      <td>0.983817</td>\n",
       "      <td>0.983819</td>\n",
       "    </tr>\n",
       "    <tr>\n",
       "      <th>accuracy</th>\n",
       "      <td>0.984142</td>\n",
       "      <td>0.983819</td>\n",
       "      <td>0.983819</td>\n",
       "    </tr>\n",
       "    <tr>\n",
       "      <th>auc</th>\n",
       "      <td>0.990384</td>\n",
       "      <td>0.990148</td>\n",
       "      <td>0.990165</td>\n",
       "    </tr>\n",
       "  </tbody>\n",
       "</table>\n",
       "</div>"
      ],
      "text/plain": [
       "                 lr        l1        l2\n",
       "precision  0.984144  0.983833  0.983824\n",
       "recall     0.984142  0.983819  0.983819\n",
       "fscore     0.984143  0.983817  0.983819\n",
       "accuracy   0.984142  0.983819  0.983819\n",
       "auc        0.990384  0.990148  0.990165"
      ]
     },
     "execution_count": 37,
     "metadata": {},
     "output_type": "execute_result"
    }
   ],
   "source": [
    "metrics\n",
    "### END SOLUTION"
   ]
  },
  {
   "cell_type": "markdown",
   "id": "61e91083-855d-46af-9b44-1137d3720f61",
   "metadata": {},
   "source": [
    "## Question 8\n",
    "\n",
    "* Display or plot the confusion matrix for each model.\n"
   ]
  },
  {
   "cell_type": "code",
   "execution_count": 38,
   "id": "4d2a6264-0f21-4da2-9520-e913b3101c64",
   "metadata": {},
   "outputs": [
    {
     "data": {
      "image/png": "[encoded data removed]",
      "text/plain": [
       "<Figure size 1200x1000 with 7 Axes>"
      ]
     },
     "metadata": {},
     "output_type": "display_data"
    }
   ],
   "source": [
    "### BEGIN SOLUTION\n",
    "fig, axList = plt.subplots(nrows=2, ncols=2)\n",
    "axList = axList.flatten()\n",
    "fig.set_size_inches(12, 10)\n",
    "\n",
    "axList[-1].axis('off')\n",
    "\n",
    "for ax,lab in zip(axList[:-1], coeff_labels):\n",
    "    sns.heatmap(cm[lab], ax=ax, annot=True, fmt='d');\n",
    "    ax.set(title=lab);\n",
    "    \n",
    "plt.tight_layout()\n",
    "### END SOLUTION"
   ]
  },
  {
   "cell_type": "markdown",
   "id": "6989f4da-f87c-4d3e-bb01-09c5f5e8e6a9",
   "metadata": {},
   "source": [
    "---\n",
    "### Machine Learning Foundation (C) 2020 IBM Corporation\n"
   ]
  }
 ],
 "metadata": {
  "kernelspec": {
   "display_name": "Python 3",
   "language": "python",
   "name": "python3"
  },
  "language_info": {
   "codemirror_mode": {
    "name": "ipython",
    "version": 3
   },
   "file_extension": ".py",
   "mimetype": "text/x-python",
   "name": "python",
   "nbconvert_exporter": "python",
   "pygments_lexer": "ipython3",
   "version": "3.9.21"
  },
  "prev_pub_hash": "5595500a1b20d83ab72984280f4996e5d926d4c49321ec6e080dd624afd105cc"
 },
 "nbformat": 4,
 "nbformat_minor": 4
}
